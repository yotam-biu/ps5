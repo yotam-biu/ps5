{
  "nbformat": 4,
  "nbformat_minor": 0,
  "metadata": {
    "colab": {
      "provenance": [],
      "authorship_tag": "ABX9TyMc8yWmA2HTSSWBRhdiybyv",
      "include_colab_link": true
    },
    "kernelspec": {
      "name": "python3",
      "display_name": "Python 3"
    },
    "language_info": {
      "name": "python"
    }
  },
  "cells": [
    {
      "cell_type": "markdown",
      "metadata": {
        "id": "view-in-github",
        "colab_type": "text"
      },
      "source": [
        "<a href=\"https://colab.research.google.com/github/yotam-biu/ps5/blob/main/main.ipynb\" target=\"_parent\"><img src=\"https://colab.research.google.com/assets/colab-badge.svg\" alt=\"Open In Colab\"/></a>"
      ]
    },
    {
      "cell_type": "code",
      "execution_count": null,
      "metadata": {
        "id": "cglDe6QltT8J"
      },
      "outputs": [],
      "source": [
        "%load_ext autoreload\n",
        "%autoreload 2\n",
        "\n",
        "# Download string_utils.py from your GitHub repository\n",
        "!wget https://raw.githubusercontent.com/yotam-biu/ps5/main/string_utils.py -O /content/string_utils.py\n",
        "\n",
        "# Download equation_utils.py from your GitHub repository\n",
        "!wget https://raw.githubusercontent.com/yotam-biu/ps5/main/equation_utils.py -O /content/equation_utils.py\n",
        "\n"
      ]
    },
    {
      "cell_type": "code",
      "source": [
        "# Add the import statements for functions from string_utils.py and equation_utils.py here\n",
        "\n",
        "def balance_reaction(reaction): #\"Fe2O3 + H2 -> Fe + H2O\"\n",
        "\n",
        "    # 1.parse reaction\n",
        "    reactants, products = parse_chemical_reaction(reaction) # [\"\"Fe2O3\", \"H2\"], [\"Fe\", \"H2O\"\"]\n",
        "    reactant_atoms = count_atoms_in_reaction(reactants) # [{\"Fe\":2, \"O\":1}, {\"H\":2}]\n",
        "    product_atoms = count_atoms_in_reaction(products)\n",
        "\n",
        "    # 2.build equation and solve\n",
        "    equations, coefficients = build_equations(reactant_atoms, product_atoms)\n",
        "    coefficients = my_solve(equations, coefficients) + [1]\n",
        "\n",
        "    return coefficients # [1/3, 1, 2/3, 1]"
      ],
      "metadata": {
        "id": "5buiJbHItmT2"
      },
      "execution_count": null,
      "outputs": []
    },
    {
      "cell_type": "code",
      "source": [
        "def test_balance():\n",
        "    assert balance_reaction(\"Fe2O3 + H2 -> Fe + H2O\") == [1/3, 1, 2/3, 1]\n",
        "    assert balance_reaction(\"CH4 + O2 -> CO2 + H2O\") == [1/2, 1, 1/2, 1]\n",
        "    assert balance_reaction(\"C3H8 + O2 -> CO2 + H2O\") == [1/4, 5/4, 3/4, 1]\n",
        "    print(\"All tests passed successfully!\")\n",
        "\n",
        "\n",
        "test_balance()"
      ],
      "metadata": {
        "id": "P1HO8iITuLZs"
      },
      "execution_count": null,
      "outputs": []
    },
    {
      "cell_type": "code",
      "source": [],
      "metadata": {
        "id": "D8saJl0SuZ96"
      },
      "execution_count": null,
      "outputs": []
    }
  ]
}