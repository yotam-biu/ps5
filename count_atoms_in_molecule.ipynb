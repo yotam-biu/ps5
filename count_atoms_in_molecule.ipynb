{
  "nbformat": 4,
  "nbformat_minor": 0,
  "metadata": {
    "colab": {
      "provenance": [],
      "authorship_tag": "ABX9TyMeD9y86R8Ei8tuQr+vkAnP",
      "include_colab_link": true
    },
    "kernelspec": {
      "name": "python3",
      "display_name": "Python 3"
    },
    "language_info": {
      "name": "python"
    }
  },
  "cells": [
    {
      "cell_type": "markdown",
      "metadata": {
        "id": "view-in-github",
        "colab_type": "text"
      },
      "source": [
        "<a href=\"https://colab.research.google.com/github/yotam-biu/ps5/blob/main/count_atoms_in_molecule.ipynb\" target=\"_parent\"><img src=\"https://colab.research.google.com/assets/colab-badge.svg\" alt=\"Open In Colab\"/></a>"
      ]
    },
    {
      "cell_type": "code",
      "execution_count": null,
      "metadata": {
        "id": "NMju23qGVGyY"
      },
      "outputs": [],
      "source": [
        "\n",
        "def split_before_uppercases(formula):\n",
        "    pass\n",
        "\n",
        "\n",
        "def split_at_digit(formula):\n",
        "    pass\n",
        "\n",
        "\n",
        "\n",
        "\n",
        "def count_atoms_in_molecule(molecular_formula):\n",
        "    \"\"\"Takes a molecular formula (string) and returns a dictionary of atom counts.\n",
        "    Example: 'H2O' → {'H': 2, 'O': 1}\"\"\"\n",
        "\n",
        "    # Step 1: Initialize an empty dictionary to store atom counts\n",
        "\n",
        "        # Step 2: Update the dictionary with the atom name and count\n",
        "\n",
        "    # Step 3: Return the completed dictionary"
      ]
    },
    {
      "cell_type": "code",
      "source": [
        "\n",
        "formula = \"H2C\"\n",
        "count_atoms_in_molecule(formula)"
      ],
      "metadata": {
        "id": "yqyqgYbOVI_l"
      },
      "execution_count": null,
      "outputs": []
    },
    {
      "cell_type": "code",
      "source": [
        "\n",
        "\n",
        "def test_count_atoms_in_molecule():\n",
        "  assert count_atoms_in_molecule(\"H2C\") == {'H': 2, 'C': 1}\n",
        "  assert count_atoms_in_molecule(\"F4He2\") == {'F': 4, 'He': 2}\n",
        "  assert count_atoms_in_molecule(\"Ir\") == {'Ir': 1}\n",
        "  print(\"All tests passed successfully!\")\n",
        "\n",
        "test_count_atoms_in_molecule()"
      ],
      "metadata": {
        "id": "ZxWzE3zYVp2l"
      },
      "execution_count": null,
      "outputs": []
    },
    {
      "cell_type": "code",
      "source": [],
      "metadata": {
        "id": "vYjJeZewX7S2"
      },
      "execution_count": null,
      "outputs": []
    }
  ]
}